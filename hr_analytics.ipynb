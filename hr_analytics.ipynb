{
 "cells": [
  {
   "cell_type": "markdown",
   "metadata": {
    "collapsed": true
   },
   "source": [
    "# Imports"
   ]
  },
  {
   "cell_type": "code",
   "execution_count": 1,
   "metadata": {},
   "outputs": [
    {
     "name": "stderr",
     "output_type": "stream",
     "text": [
      "\n",
      "Attaching package: ‘dplyr’\n",
      "\n",
      "The following objects are masked from ‘package:stats’:\n",
      "\n",
      "    filter, lag\n",
      "\n",
      "The following objects are masked from ‘package:base’:\n",
      "\n",
      "    intersect, setdiff, setequal, union\n",
      "\n",
      "Loading required package: lattice\n",
      "\n",
      "Attaching package: ‘xgboost’\n",
      "\n",
      "The following object is masked from ‘package:dplyr’:\n",
      "\n",
      "    slice\n",
      "\n"
     ]
    }
   ],
   "source": [
    "library(dplyr)\n",
    "library(ggplot2)\n",
    "library(caret)\n",
    "library(caTools)\n",
    "library(xgboost)"
   ]
  },
  {
   "cell_type": "code",
   "execution_count": 19,
   "metadata": {},
   "outputs": [],
   "source": [
    "getmode <- function(v) {\n",
    "   uniqv <- unique(v)\n",
    "   uniqv[which.max(tabulate(match(v, uniqv)))]\n",
    "}"
   ]
  },
  {
   "cell_type": "markdown",
   "metadata": {},
   "source": [
    "# Loading the data "
   ]
  },
  {
   "cell_type": "code",
   "execution_count": 20,
   "metadata": {},
   "outputs": [
    {
     "name": "stdout",
     "output_type": "stream",
     "text": [
      "'data.frame':\t54808 obs. of  14 variables:\n",
      " $ employee_id         : int  65438 65141 7513 2542 48945 58896 20379 16290 73202 28911 ...\n",
      " $ department          : Factor w/ 9 levels \"Analytics\",\"Finance\",..: 8 5 8 8 9 1 5 5 1 8 ...\n",
      " $ region              : Factor w/ 34 levels \"region_1\",\"region_10\",..: 32 15 11 16 19 12 13 28 13 1 ...\n",
      " $ education           : Factor w/ 4 levels \"\",\"Bachelor's\",..: 4 2 2 2 2 2 2 4 2 4 ...\n",
      " $ gender              : Factor w/ 2 levels \"f\",\"m\": 1 2 2 2 2 2 1 2 2 2 ...\n",
      " $ recruitment_channel : Factor w/ 3 levels \"other\",\"referred\",..: 3 1 3 1 1 3 1 3 1 3 ...\n",
      " $ no_of_trainings     : int  1 1 1 2 1 2 1 1 1 1 ...\n",
      " $ age                 : int  35 30 34 39 45 31 31 33 28 32 ...\n",
      " $ previous_year_rating: int  5 5 3 1 3 3 3 3 4 5 ...\n",
      " $ length_of_service   : int  8 4 7 10 2 7 5 6 5 5 ...\n",
      " $ KPIs_met..80.       : int  1 0 0 0 0 0 0 0 0 1 ...\n",
      " $ awards_won.         : int  0 0 0 0 0 0 0 0 0 0 ...\n",
      " $ avg_training_score  : int  49 60 50 50 73 85 59 63 83 54 ...\n",
      " $ is_promoted         : int  0 0 0 0 0 0 0 0 0 0 ...\n"
     ]
    }
   ],
   "source": [
    "hr_train <- read.csv('hr_analytics/train_LZdllcl.csv')\n",
    "str(hr_train)"
   ]
  },
  {
   "cell_type": "markdown",
   "metadata": {},
   "source": [
    "# Removing the employee_id column and duplicate values"
   ]
  },
  {
   "cell_type": "code",
   "execution_count": 22,
   "metadata": {},
   "outputs": [],
   "source": [
    "hr_train$employee_id <- NULL"
   ]
  },
  {
   "cell_type": "code",
   "execution_count": 23,
   "metadata": {},
   "outputs": [],
   "source": [
    "hr_train <- distinct(hr_train)"
   ]
  },
  {
   "cell_type": "markdown",
   "metadata": {},
   "source": [
    "# Changing the class names from 1 and 0 to \"yes\" and \"no\""
   ]
  },
  {
   "cell_type": "code",
   "execution_count": 24,
   "metadata": {},
   "outputs": [],
   "source": [
    "for (i in 1:nrow(hr_train)) {\n",
    "    hr_train$is_promoted[i] = if(hr_train$is_promoted[i] == 1) \"yes\" else \"no\"\n",
    "}"
   ]
  },
  {
   "cell_type": "code",
   "execution_count": 25,
   "metadata": {
    "scrolled": true
   },
   "outputs": [
    {
     "data": {
      "text/html": [
       "<table>\n",
       "<thead><tr><th scope=col>department</th><th scope=col>region</th><th scope=col>education</th><th scope=col>gender</th><th scope=col>recruitment_channel</th><th scope=col>no_of_trainings</th><th scope=col>age</th><th scope=col>previous_year_rating</th><th scope=col>length_of_service</th><th scope=col>KPIs_met..80.</th><th scope=col>awards_won.</th><th scope=col>avg_training_score</th><th scope=col>is_promoted</th></tr></thead>\n",
       "<tbody>\n",
       "\t<tr><td>Sales &amp; Marketing</td><td>region_7             </td><td>Master's &amp; above </td><td>f                    </td><td>sourcing             </td><td>1                    </td><td>35                   </td><td>5                    </td><td> 8                   </td><td>1                    </td><td>0                    </td><td>49                   </td><td>no                   </td></tr>\n",
       "\t<tr><td>Operations       </td><td>region_22        </td><td>Bachelor's       </td><td>m                </td><td>other            </td><td>1                </td><td>30               </td><td>5                </td><td> 4               </td><td>0                </td><td>0                </td><td>60               </td><td>no               </td></tr>\n",
       "\t<tr><td>Sales &amp; Marketing                                   </td><td>region_19                                               </td><td><span style=white-space:pre-wrap>Bachelor's      </span></td><td>m                                                       </td><td>sourcing                                                </td><td>1                                                       </td><td>34                                                      </td><td>3                                                       </td><td> 7                                                      </td><td>0                                                       </td><td>0                                                       </td><td>50                                                      </td><td>no                                                      </td></tr>\n",
       "\t<tr><td>Sales &amp; Marketing                                   </td><td>region_23                                               </td><td><span style=white-space:pre-wrap>Bachelor's      </span></td><td>m                                                       </td><td><span style=white-space:pre-wrap>other   </span>        </td><td>2                                                       </td><td>39                                                      </td><td>1                                                       </td><td>10                                                      </td><td>0                                                       </td><td>0                                                       </td><td>50                                                      </td><td>no                                                      </td></tr>\n",
       "\t<tr><td>Technology       </td><td>region_26        </td><td>Bachelor's       </td><td>m                </td><td>other            </td><td>1                </td><td>45               </td><td>3                </td><td> 2               </td><td>0                </td><td>0                </td><td>73               </td><td>no               </td></tr>\n",
       "\t<tr><td>Analytics        </td><td>region_2         </td><td>Bachelor's       </td><td>m                </td><td>sourcing         </td><td>2                </td><td>31               </td><td>3                </td><td> 7               </td><td>0                </td><td>0                </td><td>85               </td><td>no               </td></tr>\n",
       "</tbody>\n",
       "</table>\n"
      ],
      "text/latex": [
       "\\begin{tabular}{r|lllllllllllll}\n",
       " department & region & education & gender & recruitment\\_channel & no\\_of\\_trainings & age & previous\\_year\\_rating & length\\_of\\_service & KPIs\\_met..80. & awards\\_won. & avg\\_training\\_score & is\\_promoted\\\\\n",
       "\\hline\n",
       "\t Sales \\& Marketing & region\\_7          & Master's \\& above  & f                   & sourcing            & 1                   & 35                  & 5                   &  8                  & 1                   & 0                   & 49                  & no                 \\\\\n",
       "\t Operations        & region\\_22       & Bachelor's        & m                 & other             & 1                 & 30                & 5                 &  4                & 0                 & 0                 & 60                & no               \\\\\n",
       "\t Sales \\& Marketing & region\\_19         & Bachelor's          & m                   & sourcing            & 1                   & 34                  & 3                   &  7                  & 0                   & 0                   & 50                  & no                 \\\\\n",
       "\t Sales \\& Marketing & region\\_23         & Bachelor's          & m                   & other               & 2                   & 39                  & 1                   & 10                  & 0                   & 0                   & 50                  & no                 \\\\\n",
       "\t Technology        & region\\_26       & Bachelor's        & m                 & other             & 1                 & 45                & 3                 &  2                & 0                 & 0                 & 73                & no               \\\\\n",
       "\t Analytics         & region\\_2        & Bachelor's        & m                 & sourcing          & 2                 & 31                & 3                 &  7                & 0                 & 0                 & 85                & no               \\\\\n",
       "\\end{tabular}\n"
      ],
      "text/markdown": [
       "\n",
       "| department | region | education | gender | recruitment_channel | no_of_trainings | age | previous_year_rating | length_of_service | KPIs_met..80. | awards_won. | avg_training_score | is_promoted |\n",
       "|---|---|---|---|---|---|---|---|---|---|---|---|---|\n",
       "| Sales & Marketing | region_7          | Master's & above  | f                 | sourcing          | 1                 | 35                | 5                 |  8                | 1                 | 0                 | 49                | no                |\n",
       "| Operations        | region_22         | Bachelor's        | m                 | other             | 1                 | 30                | 5                 |  4                | 0                 | 0                 | 60                | no                |\n",
       "| Sales & Marketing | region_19         | Bachelor's        | m                 | sourcing          | 1                 | 34                | 3                 |  7                | 0                 | 0                 | 50                | no                |\n",
       "| Sales & Marketing | region_23         | Bachelor's        | m                 | other             | 2                 | 39                | 1                 | 10                | 0                 | 0                 | 50                | no                |\n",
       "| Technology        | region_26         | Bachelor's        | m                 | other             | 1                 | 45                | 3                 |  2                | 0                 | 0                 | 73                | no                |\n",
       "| Analytics         | region_2          | Bachelor's        | m                 | sourcing          | 2                 | 31                | 3                 |  7                | 0                 | 0                 | 85                | no                |\n",
       "\n"
      ],
      "text/plain": [
       "  department        region    education        gender recruitment_channel\n",
       "1 Sales & Marketing region_7  Master's & above f      sourcing           \n",
       "2 Operations        region_22 Bachelor's       m      other              \n",
       "3 Sales & Marketing region_19 Bachelor's       m      sourcing           \n",
       "4 Sales & Marketing region_23 Bachelor's       m      other              \n",
       "5 Technology        region_26 Bachelor's       m      other              \n",
       "6 Analytics         region_2  Bachelor's       m      sourcing           \n",
       "  no_of_trainings age previous_year_rating length_of_service KPIs_met..80.\n",
       "1 1               35  5                     8                1            \n",
       "2 1               30  5                     4                0            \n",
       "3 1               34  3                     7                0            \n",
       "4 2               39  1                    10                0            \n",
       "5 1               45  3                     2                0            \n",
       "6 2               31  3                     7                0            \n",
       "  awards_won. avg_training_score is_promoted\n",
       "1 0           49                 no         \n",
       "2 0           60                 no         \n",
       "3 0           50                 no         \n",
       "4 0           50                 no         \n",
       "5 0           73                 no         \n",
       "6 0           85                 no         "
      ]
     },
     "metadata": {},
     "output_type": "display_data"
    }
   ],
   "source": [
    "head(hr_train)"
   ]
  },
  {
   "cell_type": "markdown",
   "metadata": {},
   "source": [
    "# Replacing the null values with the modes of the attributes"
   ]
  },
  {
   "cell_type": "code",
   "execution_count": 26,
   "metadata": {
    "scrolled": false
   },
   "outputs": [
    {
     "name": "stdout",
     "output_type": "stream",
     "text": [
      "[1] \"ROWS WITH NULL VALUES:\"\n"
     ]
    },
    {
     "data": {
      "text/html": [
       "<dl class=dl-horizontal>\n",
       "\t<dt>department</dt>\n",
       "\t\t<dd>0</dd>\n",
       "\t<dt>region</dt>\n",
       "\t\t<dd>0</dd>\n",
       "\t<dt>education</dt>\n",
       "\t\t<dd>2398</dd>\n",
       "\t<dt>gender</dt>\n",
       "\t\t<dd>0</dd>\n",
       "\t<dt>recruitment_channel</dt>\n",
       "\t\t<dd>0</dd>\n",
       "\t<dt>no_of_trainings</dt>\n",
       "\t\t<dd>0</dd>\n",
       "\t<dt>age</dt>\n",
       "\t\t<dd>0</dd>\n",
       "\t<dt>previous_year_rating</dt>\n",
       "\t\t<dd>4062</dd>\n",
       "\t<dt>length_of_service</dt>\n",
       "\t\t<dd>0</dd>\n",
       "\t<dt>KPIs_met..80.</dt>\n",
       "\t\t<dd>0</dd>\n",
       "\t<dt>awards_won.</dt>\n",
       "\t\t<dd>0</dd>\n",
       "\t<dt>avg_training_score</dt>\n",
       "\t\t<dd>0</dd>\n",
       "\t<dt>is_promoted</dt>\n",
       "\t\t<dd>0</dd>\n",
       "</dl>\n"
      ],
      "text/latex": [
       "\\begin{description*}\n",
       "\\item[department] 0\n",
       "\\item[region] 0\n",
       "\\item[education] 2398\n",
       "\\item[gender] 0\n",
       "\\item[recruitment\\textbackslash{}\\_channel] 0\n",
       "\\item[no\\textbackslash{}\\_of\\textbackslash{}\\_trainings] 0\n",
       "\\item[age] 0\n",
       "\\item[previous\\textbackslash{}\\_year\\textbackslash{}\\_rating] 4062\n",
       "\\item[length\\textbackslash{}\\_of\\textbackslash{}\\_service] 0\n",
       "\\item[KPIs\\textbackslash{}\\_met..80.] 0\n",
       "\\item[awards\\textbackslash{}\\_won.] 0\n",
       "\\item[avg\\textbackslash{}\\_training\\textbackslash{}\\_score] 0\n",
       "\\item[is\\textbackslash{}\\_promoted] 0\n",
       "\\end{description*}\n"
      ],
      "text/markdown": [
       "department\n",
       ":   0region\n",
       ":   0education\n",
       ":   2398gender\n",
       ":   0recruitment_channel\n",
       ":   0no_of_trainings\n",
       ":   0age\n",
       ":   0previous_year_rating\n",
       ":   4062length_of_service\n",
       ":   0KPIs_met..80.\n",
       ":   0awards_won.\n",
       ":   0avg_training_score\n",
       ":   0is_promoted\n",
       ":   0\n",
       "\n"
      ],
      "text/plain": [
       "          department               region            education \n",
       "                   0                    0                 2398 \n",
       "              gender  recruitment_channel      no_of_trainings \n",
       "                   0                    0                    0 \n",
       "                 age previous_year_rating    length_of_service \n",
       "                   0                 4062                    0 \n",
       "       KPIs_met..80.          awards_won.   avg_training_score \n",
       "                   0                    0                    0 \n",
       "         is_promoted \n",
       "                   0 "
      ]
     },
     "metadata": {},
     "output_type": "display_data"
    }
   ],
   "source": [
    "print(\"ROWS WITH NULL VALUES:\")\n",
    "sapply(hr_train, function(x) sum(x==\"\" | is.na(x)))"
   ]
  },
  {
   "cell_type": "code",
   "execution_count": 28,
   "metadata": {},
   "outputs": [
    {
     "data": {
      "image/png": "[encoded data removed]",
      "text/plain": [
       "plot without title"
      ]
     },
     "metadata": {},
     "output_type": "display_data"
    }
   ],
   "source": [
    "missing <- sapply(hr_train, function(x) sum(x==\"\" | is.na(x)))\n",
    "missing <- (t(data.frame(missing)))\n",
    "n <- names(data.frame(missing))\n",
    "barplot(missing, beside = T,\n",
    "        col = rainbow(length(missing)), xaxt='n')\n",
    "                  \n",
    "                  \n",
    "legend(\"topright\", \n",
    "       legend = n, \n",
    "       fill = rainbow(length(missing)), ncol = 2,\n",
    "       cex = 0.5)"
   ]
  },
  {
   "cell_type": "code",
   "execution_count": 29,
   "metadata": {},
   "outputs": [],
   "source": [
    "non_null <- na.omit(hr_train)"
   ]
  },
  {
   "cell_type": "code",
   "execution_count": 30,
   "metadata": {},
   "outputs": [
    {
     "data": {
      "text/html": [
       "50628"
      ],
      "text/latex": [
       "50628"
      ],
      "text/markdown": [
       "50628"
      ],
      "text/plain": [
       "[1] 50628"
      ]
     },
     "metadata": {},
     "output_type": "display_data"
    }
   ],
   "source": [
    "nrow(non_null)"
   ]
  },
  {
   "cell_type": "code",
   "execution_count": 31,
   "metadata": {},
   "outputs": [],
   "source": [
    "hr_train[hr_train$education == \"\" & hr_train$is_promoted == \"no\", grep(\"education\", colnames(hr_train))] <- getmode(subset(hr_train, is_promoted == \"no\")$education) \n",
    "hr_train[hr_train$education == \"\" & hr_train$is_promoted == \"yes\", grep(\"education\", colnames(hr_train))] <- getmode(subset(hr_train, is_promoted == \"yes\")$education)\n",
    "hr_train[is.na(hr_train[\"previous_year_rating\"]) & hr_train$is_promoted == \"no\", grep(\"previous_year_rating\", colnames(hr_train))] <- getmode(subset(hr_train, is_promoted == \"no\")$previous_year_rating)\n",
    "hr_train[is.na(hr_train[\"previous_year_rating\"]) & hr_train$is_promoted == \"yes\", grep(\"previous_year_rating\", colnames(hr_train))] <- getmode(subset(hr_train, is_promoted == \"yes\")$previous_year_rating)"
   ]
  },
  {
   "cell_type": "code",
   "execution_count": 32,
   "metadata": {},
   "outputs": [
    {
     "data": {
      "text/html": [
       "54690"
      ],
      "text/latex": [
       "54690"
      ],
      "text/markdown": [
       "54690"
      ],
      "text/plain": [
       "[1] 54690"
      ]
     },
     "metadata": {},
     "output_type": "display_data"
    }
   ],
   "source": [
    "nrow(hr_train)"
   ]
  },
  {
   "cell_type": "markdown",
   "metadata": {},
   "source": [
    "# Balancing the classes"
   ]
  },
  {
   "cell_type": "code",
   "execution_count": 33,
   "metadata": {},
   "outputs": [
    {
     "data": {
      "text/html": [
       "<table>\n",
       "<thead><tr><th scope=col>Var1</th><th scope=col>Freq</th></tr></thead>\n",
       "<tbody>\n",
       "\t<tr><td>no        </td><td>0.91470104</td></tr>\n",
       "\t<tr><td>yes       </td><td>0.08529896</td></tr>\n",
       "</tbody>\n",
       "</table>\n"
      ],
      "text/latex": [
       "\\begin{tabular}{r|ll}\n",
       " Var1 & Freq\\\\\n",
       "\\hline\n",
       "\t no         & 0.91470104\\\\\n",
       "\t yes        & 0.08529896\\\\\n",
       "\\end{tabular}\n"
      ],
      "text/markdown": [
       "\n",
       "| Var1 | Freq |\n",
       "|---|---|\n",
       "| no         | 0.91470104 |\n",
       "| yes        | 0.08529896 |\n",
       "\n"
      ],
      "text/plain": [
       "  Var1 Freq      \n",
       "1 no   0.91470104\n",
       "2 yes  0.08529896"
      ]
     },
     "metadata": {},
     "output_type": "display_data"
    },
    {
     "data": {
      "text/plain": [
       "\n",
       "   no   yes \n",
       "50025  4665 "
      ]
     },
     "metadata": {},
     "output_type": "display_data"
    },
    {
     "data": {
      "image/png": "[encoded data removed]",
      "text/plain": [
       "plot without title"
      ]
     },
     "metadata": {},
     "output_type": "display_data"
    }
   ],
   "source": [
    "barplot(prop.table(table(hr_train$is_promoted)), col=c(\"red\",\"blue\"))\n",
    "data.frame(prop.table(table(hr_train$is_promoted))) \n",
    "table(hr_train$is_promoted)"
   ]
  },
  {
   "cell_type": "code",
   "execution_count": 40,
   "metadata": {},
   "outputs": [
    {
     "data": {
      "text/html": [
       "<table>\n",
       "<thead><tr><th scope=col>Var1</th><th scope=col>Freq</th></tr></thead>\n",
       "<tbody>\n",
       "\t<tr><td>no </td><td>0.5</td></tr>\n",
       "\t<tr><td>yes</td><td>0.5</td></tr>\n",
       "</tbody>\n",
       "</table>\n"
      ],
      "text/latex": [
       "\\begin{tabular}{r|ll}\n",
       " Var1 & Freq\\\\\n",
       "\\hline\n",
       "\t no  & 0.5\\\\\n",
       "\t yes & 0.5\\\\\n",
       "\\end{tabular}\n"
      ],
      "text/markdown": [
       "\n",
       "| Var1 | Freq |\n",
       "|---|---|\n",
       "| no  | 0.5 |\n",
       "| yes | 0.5 |\n",
       "\n"
      ],
      "text/plain": [
       "  Var1 Freq\n",
       "1 no   0.5 \n",
       "2 yes  0.5 "
      ]
     },
     "metadata": {},
     "output_type": "display_data"
    },
    {
     "data": {
      "image/png": "[encoded data removed]",
      "text/plain": [
       "plot without title"
      ]
     },
     "metadata": {},
     "output_type": "display_data"
    }
   ],
   "source": [
    "barplot(prop.table(table(min_train$is_promoted)), col=c(\"red\",\"blue\"))\n",
    "data.frame(prop.table(table(min_train$is_promoted))) "
   ]
  },
  {
   "cell_type": "markdown",
   "metadata": {},
   "source": [
    "# Splitting the data into training and testing sets"
   ]
  },
  {
   "cell_type": "code",
   "execution_count": 39,
   "metadata": {},
   "outputs": [],
   "source": [
    "set.seed(42)\n",
    "\n",
    "temp1 <- subset(hr_train, is_promoted == \"yes\")\n",
    "temp2 <- subset(hr_train, is_promoted == \"no\")\n",
    "\n",
    "temp2 <- temp2[sample(nrow(temp1)),]\n",
    "min_train <- rbind(temp1, temp2)\n",
    "\n",
    "rows <- sample(nrow(min_train))\n",
    "min_train <- min_train[rows,]"
   ]
  },
  {
   "cell_type": "code",
   "execution_count": 41,
   "metadata": {},
   "outputs": [],
   "source": [
    "index = createDataPartition(min_train$is_promoted, p=4/5, list=FALSE)\n",
    "train_data <- min_train[index,]\n",
    "test_data <- min_train[-index,]"
   ]
  },
  {
   "cell_type": "markdown",
   "metadata": {},
   "source": [
    "# Hyperparameters for training"
   ]
  },
  {
   "cell_type": "code",
   "execution_count": 42,
   "metadata": {},
   "outputs": [],
   "source": [
    "params <- trainControl(method=\"cv\",\n",
    "                      number=5,\n",
    "                      savePredictions=TRUE,\n",
    "                      classProbs=TRUE)"
   ]
  },
  {
   "cell_type": "markdown",
   "metadata": {},
   "source": [
    "# Training the Random Forest"
   ]
  },
  {
   "cell_type": "code",
   "execution_count": 43,
   "metadata": {},
   "outputs": [],
   "source": [
    "random_forest <- train(as.factor(is_promoted)~.,\n",
    "              data=train_data,\n",
    "              method=\"rf\",\n",
    "              trControl=params)"
   ]
  },
  {
   "cell_type": "code",
   "execution_count": 44,
   "metadata": {},
   "outputs": [
    {
     "data": {
      "text/plain": [
       "Random Forest \n",
       "\n",
       "7464 samples\n",
       "  12 predictor\n",
       "   2 classes: 'no', 'yes' \n",
       "\n",
       "No pre-processing\n",
       "Resampling: Cross-Validated (5 fold) \n",
       "Summary of sample sizes: 5972, 5972, 5972, 5970, 5970 \n",
       "Resampling results across tuning parameters:\n",
       "\n",
       "  mtry  Accuracy   Kappa    \n",
       "   2    0.7600484  0.5200968\n",
       "  28    0.8161811  0.6323622\n",
       "  54    0.8105528  0.6211057\n",
       "\n",
       "Accuracy was used to select the optimal model using the largest value.\n",
       "The final value used for the model was mtry = 28."
      ]
     },
     "metadata": {},
     "output_type": "display_data"
    }
   ],
   "source": [
    "random_forest"
   ]
  },
  {
   "cell_type": "code",
   "execution_count": 45,
   "metadata": {},
   "outputs": [
    {
     "data": {
      "text/plain": [
       "Cross-Validated (5 fold) Confusion Matrix \n",
       "\n",
       "(entries are percentual average cell counts across resamples)\n",
       " \n",
       "          Reference\n",
       "Prediction   no  yes\n",
       "       no  37.5  5.8\n",
       "       yes 12.5 44.2\n",
       "                            \n",
       " Accuracy (average) : 0.8162\n"
      ]
     },
     "metadata": {},
     "output_type": "display_data"
    }
   ],
   "source": [
    "confusionMatrix(random_forest)"
   ]
  },
  {
   "cell_type": "code",
   "execution_count": 46,
   "metadata": {},
   "outputs": [
    {
     "data": {
      "text/plain": [
       "rf variable importance\n",
       "\n",
       "  only 20 most important variables shown (out of 54)\n",
       "\n",
       "                            Overall\n",
       "avg_training_score           832.70\n",
       "KPIs_met..80.                533.48\n",
       "previous_year_rating         381.64\n",
       "length_of_service            313.44\n",
       "age                          301.19\n",
       "departmentSales & Marketing  186.40\n",
       "awards_won.                  114.01\n",
       "departmentOperations         102.15\n",
       "departmentProcurement         67.42\n",
       "no_of_trainings               67.28\n",
       "recruitment_channelsourcing   60.31\n",
       "genderm                       55.79\n",
       "regionregion_2                41.94\n",
       "departmentTechnology          39.70\n",
       "departmentFinance             38.99\n",
       "regionregion_22               38.76\n",
       "regionregion_7                36.84\n",
       "educationMaster's & above     31.27\n",
       "departmentHR                  30.92\n",
       "educationBachelor's           30.88"
      ]
     },
     "metadata": {},
     "output_type": "display_data"
    },
    {
     "data": {
      "image/png": "[encoded data removed]",
      "text/plain": [
       "plot without title"
      ]
     },
     "metadata": {},
     "output_type": "display_data"
    }
   ],
   "source": [
    "plot(varImp(random_forest, scale=FALSE), top=20)\n",
    "varImp(random_forest, scale=FALSE)"
   ]
  },
  {
   "cell_type": "code",
   "execution_count": 47,
   "metadata": {},
   "outputs": [],
   "source": [
    "rfpreds <- predict(random_forest, test_data)"
   ]
  },
  {
   "cell_type": "code",
   "execution_count": 48,
   "metadata": {},
   "outputs": [
    {
     "data": {
      "text/plain": [
       "Confusion Matrix and Statistics\n",
       "\n",
       "       \n",
       "rfpreds  no yes\n",
       "    no  719 122\n",
       "    yes 214 811\n",
       "                                          \n",
       "               Accuracy : 0.8199          \n",
       "                 95% CI : (0.8017, 0.8371)\n",
       "    No Information Rate : 0.5             \n",
       "    P-Value [Acc > NIR] : < 2.2e-16       \n",
       "                                          \n",
       "                  Kappa : 0.6399          \n",
       "                                          \n",
       " Mcnemar's Test P-Value : 6.889e-07       \n",
       "                                          \n",
       "            Sensitivity : 0.7706          \n",
       "            Specificity : 0.8692          \n",
       "         Pos Pred Value : 0.8549          \n",
       "         Neg Pred Value : 0.7912          \n",
       "             Prevalence : 0.5000          \n",
       "         Detection Rate : 0.3853          \n",
       "   Detection Prevalence : 0.4507          \n",
       "      Balanced Accuracy : 0.8199          \n",
       "                                          \n",
       "       'Positive' Class : no              \n",
       "                                          "
      ]
     },
     "metadata": {},
     "output_type": "display_data"
    }
   ],
   "source": [
    "confusionMatrix(table(rfpreds, test_data$is_promoted))"
   ]
  },
  {
   "cell_type": "markdown",
   "metadata": {},
   "source": [
    "# Training the XGBoost tree"
   ]
  },
  {
   "cell_type": "code",
   "execution_count": 50,
   "metadata": {},
   "outputs": [],
   "source": [
    "xgbtree <- train(as.factor(is_promoted)~.,\n",
    "              data=train_data,\n",
    "              method=\"xgbTree\",\n",
    "              trControl=params)"
   ]
  },
  {
   "cell_type": "code",
   "execution_count": 51,
   "metadata": {},
   "outputs": [
    {
     "data": {
      "text/plain": [
       "eXtreme Gradient Boosting \n",
       "\n",
       "7464 samples\n",
       "  12 predictor\n",
       "   2 classes: 'no', 'yes' \n",
       "\n",
       "No pre-processing\n",
       "Resampling: Cross-Validated (5 fold) \n",
       "Summary of sample sizes: 5970, 5972, 5971, 5971, 5972 \n",
       "Resampling results across tuning parameters:\n",
       "\n",
       "  eta  max_depth  colsample_bytree  subsample  nrounds  Accuracy   Kappa    \n",
       "  0.3  1          0.6               0.50        50      0.7430301  0.4860646\n",
       "  0.3  1          0.6               0.50       100      0.7569643  0.5139280\n",
       "  0.3  1          0.6               0.50       150      0.7641990  0.5283971\n",
       "  0.3  1          0.6               0.75        50      0.7400815  0.4801619\n",
       "  0.3  1          0.6               0.75       100      0.7554887  0.5109784\n",
       "  0.3  1          0.6               0.75       150      0.7619207  0.5238410\n",
       "  0.3  1          0.6               1.00        50      0.7364661  0.4729291\n",
       "  0.3  1          0.6               1.00       100      0.7537470  0.5074944\n",
       "  0.3  1          0.6               1.00       150      0.7600433  0.5200872\n",
       "  0.3  1          0.8               0.50        50      0.7432993  0.4865977\n",
       "  0.3  1          0.8               0.50       100      0.7570977  0.5141942\n",
       "  0.3  1          0.8               0.50       150      0.7676818  0.5353623\n",
       "  0.3  1          0.8               0.75        50      0.7443707  0.4887418\n",
       "  0.3  1          0.8               0.75       100      0.7541495  0.5082988\n",
       "  0.3  1          0.8               0.75       150      0.7651352  0.5302704\n",
       "  0.3  1          0.8               1.00        50      0.7335188  0.4670385\n",
       "  0.3  1          0.8               1.00       100      0.7534805  0.5069615\n",
       "  0.3  1          0.8               1.00       150      0.7597756  0.5195527\n",
       "  0.3  2          0.6               0.50        50      0.8029222  0.6058440\n",
       "  0.3  2          0.6               0.50       100      0.8175269  0.6350558\n",
       "  0.3  2          0.6               0.50       150      0.8212762  0.6425532\n",
       "  0.3  2          0.6               0.75        50      0.8078758  0.6157513\n",
       "  0.3  2          0.6               0.75       100      0.8161827  0.6323652\n",
       "  0.3  2          0.6               0.75       150      0.8216771  0.6433528\n",
       "  0.3  2          0.6               1.00        50      0.8045285  0.6090546\n",
       "  0.3  2          0.6               1.00       100      0.8238210  0.6476397\n",
       "  0.3  2          0.6               1.00       150      0.8282437  0.6564879\n",
       "  0.3  2          0.8               0.50        50      0.8082778  0.6165551\n",
       "  0.3  2          0.8               0.50       100      0.8183291  0.6366586\n",
       "  0.3  2          0.8               0.50       150      0.8219456  0.6438927\n",
       "  0.3  2          0.8               0.75        50      0.8108263  0.6216527\n",
       "  0.3  2          0.8               0.75       100      0.8189996  0.6379997\n",
       "  0.3  2          0.8               0.75       150      0.8238217  0.6476445\n",
       "  0.3  2          0.8               1.00        50      0.8117676  0.6235342\n",
       "  0.3  2          0.8               1.00       100      0.8232873  0.6465746\n",
       "  0.3  2          0.8               1.00       150      0.8285115  0.6570244\n",
       "  0.3  3          0.6               0.50        50      0.8125690  0.6251385\n",
       "  0.3  3          0.6               0.50       100      0.8203379  0.6406750\n",
       "  0.3  3          0.6               0.50       150      0.8240883  0.6481762\n",
       "  0.3  3          0.6               0.75        50      0.8188644  0.6377295\n",
       "  0.3  3          0.6               0.75       100      0.8247598  0.6495210\n",
       "  0.3  3          0.6               0.75       150      0.8263667  0.6527340\n",
       "  0.3  3          0.6               1.00        50      0.8267682  0.6535374\n",
       "  0.3  3          0.6               1.00       100      0.8299868  0.6599739\n",
       "  0.3  3          0.6               1.00       150      0.8297183  0.6594363\n",
       "  0.3  3          0.8               0.50        50      0.8210072  0.6420165\n",
       "  0.3  3          0.8               0.50       100      0.8255628  0.6511261\n",
       "  0.3  3          0.8               0.50       150      0.8232861  0.6465722\n",
       "  0.3  3          0.8               0.75        50      0.8180610  0.6361201\n",
       "  0.3  3          0.8               0.75       100      0.8254289  0.6508563\n",
       "  0.3  3          0.8               0.75       150      0.8269050  0.6538084\n",
       "  0.3  3          0.8               1.00        50      0.8263672  0.6527357\n",
       "  0.3  3          0.8               1.00       100      0.8287785  0.6575576\n",
       "  0.3  3          0.8               1.00       150      0.8266373  0.6532755\n",
       "  0.4  1          0.6               0.50        50      0.7513363  0.5026731\n",
       "  0.4  1          0.6               0.50       100      0.7672807  0.5345598\n",
       "  0.4  1          0.6               0.50       150      0.7765245  0.5530496\n",
       "  0.4  1          0.6               0.75        50      0.7477189  0.4954379\n",
       "  0.4  1          0.6               0.75       100      0.7607139  0.5214283\n",
       "  0.4  1          0.6               0.75       150      0.7702269  0.5404526\n",
       "  0.4  1          0.6               1.00        50      0.7470490  0.4940996\n",
       "  0.4  1          0.6               1.00       100      0.7589712  0.5179439\n",
       "  0.4  1          0.6               1.00       150      0.7674114  0.5348231\n",
       "  0.4  1          0.8               0.50        50      0.7455756  0.4911521\n",
       "  0.4  1          0.8               0.50       100      0.7690207  0.5380431\n",
       "  0.4  1          0.8               0.50       150      0.7774617  0.5549242\n",
       "  0.4  1          0.8               0.75        50      0.7471837  0.4943674\n",
       "  0.4  1          0.8               0.75       100      0.7635291  0.5270593\n",
       "  0.4  1          0.8               0.75       150      0.7710311  0.5420620\n",
       "  0.4  1          0.8               1.00        50      0.7486571  0.4973146\n",
       "  0.4  1          0.8               1.00       100      0.7569609  0.5139227\n",
       "  0.4  1          0.8               1.00       150      0.7684834  0.5369671\n",
       "  0.4  2          0.6               0.50        50      0.8122990  0.6245995\n",
       "  0.4  2          0.6               0.50       100      0.8192669  0.6385339\n",
       "  0.4  2          0.6               0.50       150      0.8212768  0.6425538\n",
       "  0.4  2          0.6               0.75        50      0.8139054  0.6278100\n",
       "  0.4  2          0.6               0.75       100      0.8194008  0.6388015\n",
       "  0.4  2          0.6               0.75       150      0.8242237  0.6484467\n",
       "  0.4  2          0.6               1.00        50      0.8121667  0.6243340\n",
       "  0.4  2          0.6               1.00       100      0.8246270  0.6492540\n",
       "  0.4  2          0.6               1.00       150      0.8270373  0.6540747\n",
       "  0.4  2          0.8               0.50        50      0.8124329  0.6248641\n",
       "  0.4  2          0.8               0.50       100      0.8173904  0.6347816\n",
       "  0.4  2          0.8               0.50       150      0.8191318  0.6382631\n",
       "  0.4  2          0.8               0.75        50      0.8156504  0.6313007\n",
       "  0.4  2          0.8               0.75       100      0.8244931  0.6489863\n",
       "  0.4  2          0.8               0.75       150      0.8235542  0.6471082\n",
       "  0.4  2          0.8               1.00        50      0.8173890  0.6347747\n",
       "  0.4  2          0.8               1.00       100      0.8295816  0.6591638\n",
       "  0.4  2          0.8               1.00       150      0.8282426  0.6564868\n",
       "  0.4  3          0.6               0.50        50      0.8168557  0.6337125\n",
       "  0.4  3          0.6               0.50       100      0.8203385  0.6406786\n",
       "  0.4  3          0.6               0.50       150      0.8210083  0.6420178\n",
       "  0.4  3          0.6               0.75        50      0.8224816  0.6449639\n",
       "  0.4  3          0.6               0.75       100      0.8250277  0.6500551\n",
       "  0.4  3          0.6               0.75       150      0.8246240  0.6492479\n",
       "  0.4  3          0.6               1.00        50      0.8262344  0.6524684\n",
       "  0.4  3          0.6               1.00       100      0.8301203  0.6602414\n",
       "  0.4  3          0.6               1.00       150      0.8248946  0.6497896\n",
       "  0.4  3          0.8               0.50        50      0.8232859  0.6465711\n",
       "  0.4  3          0.8               0.50       100      0.8243563  0.6487140\n",
       "  0.4  3          0.8               0.50       150      0.8204723  0.6409441\n",
       "  0.4  3          0.8               0.75        50      0.8248946  0.6497879\n",
       "  0.4  3          0.8               0.75       100      0.8279762  0.6559518\n",
       "  0.4  3          0.8               0.75       150      0.8275747  0.6551499\n",
       "  0.4  3          0.8               1.00        50      0.8246270  0.6492531\n",
       "  0.4  3          0.8               1.00       100      0.8274401  0.6548802\n",
       "  0.4  3          0.8               1.00       150      0.8236885  0.6473773\n",
       "\n",
       "Tuning parameter 'gamma' was held constant at a value of 0\n",
       "Tuning\n",
       " parameter 'min_child_weight' was held constant at a value of 1\n",
       "Accuracy was used to select the optimal model using the largest value.\n",
       "The final values used for the model were nrounds = 100, max_depth = 3, eta\n",
       " = 0.4, gamma = 0, colsample_bytree = 0.6, min_child_weight = 1 and subsample\n",
       " = 1."
      ]
     },
     "metadata": {},
     "output_type": "display_data"
    }
   ],
   "source": [
    "xgbtree"
   ]
  },
  {
   "cell_type": "code",
   "execution_count": 52,
   "metadata": {},
   "outputs": [
    {
     "data": {
      "text/plain": [
       "Cross-Validated (5 fold) Confusion Matrix \n",
       "\n",
       "(entries are percentual average cell counts across resamples)\n",
       " \n",
       "          Reference\n",
       "Prediction   no  yes\n",
       "       no  38.1  5.1\n",
       "       yes 11.9 44.9\n",
       "                            \n",
       " Accuracy (average) : 0.8301\n"
      ]
     },
     "metadata": {},
     "output_type": "display_data"
    },
    {
     "data": {
      "text/html": [
       "<table>\n",
       "<thead><tr><th scope=col>pred</th><th scope=col>obs</th><th scope=col>rowIndex</th><th scope=col>no</th><th scope=col>yes</th><th scope=col>eta</th><th scope=col>max_depth</th><th scope=col>gamma</th><th scope=col>colsample_bytree</th><th scope=col>min_child_weight</th><th scope=col>subsample</th><th scope=col>nrounds</th><th scope=col>Resample</th></tr></thead>\n",
       "<tbody>\n",
       "\t<tr><td>no        </td><td>yes       </td><td> 11       </td><td>0.81190646</td><td>0.1880935 </td><td>0.3       </td><td>1         </td><td>0         </td><td>0.6       </td><td>1         </td><td>0.5       </td><td>150       </td><td>Fold1     </td></tr>\n",
       "\t<tr><td>no        </td><td>yes       </td><td> 12       </td><td>0.54240084</td><td>0.4575992 </td><td>0.3       </td><td>1         </td><td>0         </td><td>0.6       </td><td>1         </td><td>0.5       </td><td>150       </td><td>Fold1     </td></tr>\n",
       "\t<tr><td>no        </td><td>yes       </td><td> 18       </td><td>0.61163652</td><td>0.3883635 </td><td>0.3       </td><td>1         </td><td>0         </td><td>0.6       </td><td>1         </td><td>0.5       </td><td>150       </td><td>Fold1     </td></tr>\n",
       "\t<tr><td>no        </td><td>no        </td><td> 20       </td><td>0.55684888</td><td>0.4431511 </td><td>0.3       </td><td>1         </td><td>0         </td><td>0.6       </td><td>1         </td><td>0.5       </td><td>150       </td><td>Fold1     </td></tr>\n",
       "\t<tr><td>no        </td><td>no        </td><td> 26       </td><td>0.92591250</td><td>0.0740875 </td><td>0.3       </td><td>1         </td><td>0         </td><td>0.6       </td><td>1         </td><td>0.5       </td><td>150       </td><td>Fold1     </td></tr>\n",
       "\t<tr><td>no        </td><td>no        </td><td> 33       </td><td>0.84007031</td><td>0.1599297 </td><td>0.3       </td><td>1         </td><td>0         </td><td>0.6       </td><td>1         </td><td>0.5       </td><td>150       </td><td>Fold1     </td></tr>\n",
       "\t<tr><td>no        </td><td>no        </td><td> 45       </td><td>0.86138523</td><td>0.1386148 </td><td>0.3       </td><td>1         </td><td>0         </td><td>0.6       </td><td>1         </td><td>0.5       </td><td>150       </td><td>Fold1     </td></tr>\n",
       "\t<tr><td>no        </td><td>no        </td><td> 47       </td><td>0.82855266</td><td>0.1714473 </td><td>0.3       </td><td>1         </td><td>0         </td><td>0.6       </td><td>1         </td><td>0.5       </td><td>150       </td><td>Fold1     </td></tr>\n",
       "\t<tr><td>no        </td><td>no        </td><td> 52       </td><td>0.83102465</td><td>0.1689754 </td><td>0.3       </td><td>1         </td><td>0         </td><td>0.6       </td><td>1         </td><td>0.5       </td><td>150       </td><td>Fold1     </td></tr>\n",
       "\t<tr><td>yes       </td><td>yes       </td><td> 53       </td><td>0.18751892</td><td>0.8124811 </td><td>0.3       </td><td>1         </td><td>0         </td><td>0.6       </td><td>1         </td><td>0.5       </td><td>150       </td><td>Fold1     </td></tr>\n",
       "\t<tr><td>no        </td><td>yes       </td><td> 68       </td><td>0.50942379</td><td>0.4905762 </td><td>0.3       </td><td>1         </td><td>0         </td><td>0.6       </td><td>1         </td><td>0.5       </td><td>150       </td><td>Fold1     </td></tr>\n",
       "\t<tr><td>yes       </td><td>yes       </td><td> 72       </td><td>0.01175321</td><td>0.9882468 </td><td>0.3       </td><td>1         </td><td>0         </td><td>0.6       </td><td>1         </td><td>0.5       </td><td>150       </td><td>Fold1     </td></tr>\n",
       "\t<tr><td>yes       </td><td>yes       </td><td> 90       </td><td>0.01358773</td><td>0.9864123 </td><td>0.3       </td><td>1         </td><td>0         </td><td>0.6       </td><td>1         </td><td>0.5       </td><td>150       </td><td>Fold1     </td></tr>\n",
       "\t<tr><td>yes       </td><td>yes       </td><td> 96       </td><td>0.26704845</td><td>0.7329516 </td><td>0.3       </td><td>1         </td><td>0         </td><td>0.6       </td><td>1         </td><td>0.5       </td><td>150       </td><td>Fold1     </td></tr>\n",
       "\t<tr><td>no        </td><td>no        </td><td>100       </td><td>0.73621893</td><td>0.2637811 </td><td>0.3       </td><td>1         </td><td>0         </td><td>0.6       </td><td>1         </td><td>0.5       </td><td>150       </td><td>Fold1     </td></tr>\n",
       "\t<tr><td>yes       </td><td>yes       </td><td>102       </td><td>0.31354776</td><td>0.6864522 </td><td>0.3       </td><td>1         </td><td>0         </td><td>0.6       </td><td>1         </td><td>0.5       </td><td>150       </td><td>Fold1     </td></tr>\n",
       "\t<tr><td>no        </td><td>yes       </td><td>105       </td><td>0.52566516</td><td>0.4743348 </td><td>0.3       </td><td>1         </td><td>0         </td><td>0.6       </td><td>1         </td><td>0.5       </td><td>150       </td><td>Fold1     </td></tr>\n",
       "\t<tr><td>no        </td><td>yes       </td><td>107       </td><td>0.58033037</td><td>0.4196696 </td><td>0.3       </td><td>1         </td><td>0         </td><td>0.6       </td><td>1         </td><td>0.5       </td><td>150       </td><td>Fold1     </td></tr>\n",
       "\t<tr><td>no        </td><td>no        </td><td>109       </td><td>0.83221853</td><td>0.1677815 </td><td>0.3       </td><td>1         </td><td>0         </td><td>0.6       </td><td>1         </td><td>0.5       </td><td>150       </td><td>Fold1     </td></tr>\n",
       "\t<tr><td>yes       </td><td>yes       </td><td>118       </td><td>0.12638646</td><td>0.8736135 </td><td>0.3       </td><td>1         </td><td>0         </td><td>0.6       </td><td>1         </td><td>0.5       </td><td>150       </td><td>Fold1     </td></tr>\n",
       "\t<tr><td>no        </td><td>no        </td><td>121       </td><td>0.59294093</td><td>0.4070591 </td><td>0.3       </td><td>1         </td><td>0         </td><td>0.6       </td><td>1         </td><td>0.5       </td><td>150       </td><td>Fold1     </td></tr>\n",
       "\t<tr><td>no        </td><td>no        </td><td>125       </td><td>0.80721444</td><td>0.1927856 </td><td>0.3       </td><td>1         </td><td>0         </td><td>0.6       </td><td>1         </td><td>0.5       </td><td>150       </td><td>Fold1     </td></tr>\n",
       "\t<tr><td>yes       </td><td>yes       </td><td>127       </td><td>0.29230195</td><td>0.7076980 </td><td>0.3       </td><td>1         </td><td>0         </td><td>0.6       </td><td>1         </td><td>0.5       </td><td>150       </td><td>Fold1     </td></tr>\n",
       "\t<tr><td>yes       </td><td>yes       </td><td>133       </td><td>0.26394159</td><td>0.7360584 </td><td>0.3       </td><td>1         </td><td>0         </td><td>0.6       </td><td>1         </td><td>0.5       </td><td>150       </td><td>Fold1     </td></tr>\n",
       "\t<tr><td>yes       </td><td>yes       </td><td>137       </td><td>0.29003581</td><td>0.7099642 </td><td>0.3       </td><td>1         </td><td>0         </td><td>0.6       </td><td>1         </td><td>0.5       </td><td>150       </td><td>Fold1     </td></tr>\n",
       "\t<tr><td>yes       </td><td>yes       </td><td>138       </td><td>0.36192936</td><td>0.6380706 </td><td>0.3       </td><td>1         </td><td>0         </td><td>0.6       </td><td>1         </td><td>0.5       </td><td>150       </td><td>Fold1     </td></tr>\n",
       "\t<tr><td>yes       </td><td>yes       </td><td>142       </td><td>0.02873910</td><td>0.9712609 </td><td>0.3       </td><td>1         </td><td>0         </td><td>0.6       </td><td>1         </td><td>0.5       </td><td>150       </td><td>Fold1     </td></tr>\n",
       "\t<tr><td>no        </td><td>yes       </td><td>154       </td><td>0.64193881</td><td>0.3580612 </td><td>0.3       </td><td>1         </td><td>0         </td><td>0.6       </td><td>1         </td><td>0.5       </td><td>150       </td><td>Fold1     </td></tr>\n",
       "\t<tr><td>yes       </td><td>yes       </td><td>156       </td><td>0.26931620</td><td>0.7306838 </td><td>0.3       </td><td>1         </td><td>0         </td><td>0.6       </td><td>1         </td><td>0.5       </td><td>150       </td><td>Fold1     </td></tr>\n",
       "\t<tr><td>yes       </td><td>yes       </td><td>157       </td><td>0.49462673</td><td>0.5053733 </td><td>0.3       </td><td>1         </td><td>0         </td><td>0.6       </td><td>1         </td><td>0.5       </td><td>150       </td><td>Fold1     </td></tr>\n",
       "\t<tr><td>...</td><td>...</td><td>...</td><td>...</td><td>...</td><td>...</td><td>...</td><td>...</td><td>...</td><td>...</td><td>...</td><td>...</td><td>...</td></tr>\n",
       "\t<tr><td>yes         </td><td>yes         </td><td>7337        </td><td>0.130734667 </td><td>0.8692653328</td><td>0.4         </td><td>3           </td><td>0           </td><td>0.8         </td><td>1           </td><td>1           </td><td>100         </td><td>Fold5       </td></tr>\n",
       "\t<tr><td>no          </td><td>yes         </td><td>7344        </td><td>0.917219818 </td><td>0.0827801824</td><td>0.4         </td><td>3           </td><td>0           </td><td>0.8         </td><td>1           </td><td>1           </td><td>100         </td><td>Fold5       </td></tr>\n",
       "\t<tr><td>no          </td><td>no          </td><td>7346        </td><td>0.729470372 </td><td>0.2705296278</td><td>0.4         </td><td>3           </td><td>0           </td><td>0.8         </td><td>1           </td><td>1           </td><td>100         </td><td>Fold5       </td></tr>\n",
       "\t<tr><td>no          </td><td>no          </td><td>7351        </td><td>0.974665999 </td><td>0.0253340006</td><td>0.4         </td><td>3           </td><td>0           </td><td>0.8         </td><td>1           </td><td>1           </td><td>100         </td><td>Fold5       </td></tr>\n",
       "\t<tr><td>no          </td><td>yes         </td><td>7355        </td><td>0.555130780 </td><td>0.4448692203</td><td>0.4         </td><td>3           </td><td>0           </td><td>0.8         </td><td>1           </td><td>1           </td><td>100         </td><td>Fold5       </td></tr>\n",
       "\t<tr><td>yes         </td><td>no          </td><td>7357        </td><td>0.330740631 </td><td>0.6692593694</td><td>0.4         </td><td>3           </td><td>0           </td><td>0.8         </td><td>1           </td><td>1           </td><td>100         </td><td>Fold5       </td></tr>\n",
       "\t<tr><td>yes         </td><td>no          </td><td>7362        </td><td>0.095905215 </td><td>0.9040947855</td><td>0.4         </td><td>3           </td><td>0           </td><td>0.8         </td><td>1           </td><td>1           </td><td>100         </td><td>Fold5       </td></tr>\n",
       "\t<tr><td>yes         </td><td>yes         </td><td>7367        </td><td>0.466954619 </td><td>0.5330453813</td><td>0.4         </td><td>3           </td><td>0           </td><td>0.8         </td><td>1           </td><td>1           </td><td>100         </td><td>Fold5       </td></tr>\n",
       "\t<tr><td>no          </td><td>no          </td><td>7372        </td><td>0.999342263 </td><td>0.0006577373</td><td>0.4         </td><td>3           </td><td>0           </td><td>0.8         </td><td>1           </td><td>1           </td><td>100         </td><td>Fold5       </td></tr>\n",
       "\t<tr><td>no          </td><td>no          </td><td>7375        </td><td>0.987013757 </td><td>0.0129862428</td><td>0.4         </td><td>3           </td><td>0           </td><td>0.8         </td><td>1           </td><td>1           </td><td>100         </td><td>Fold5       </td></tr>\n",
       "\t<tr><td>yes         </td><td>yes         </td><td>7376        </td><td>0.030579908 </td><td>0.9694200922</td><td>0.4         </td><td>3           </td><td>0           </td><td>0.8         </td><td>1           </td><td>1           </td><td>100         </td><td>Fold5       </td></tr>\n",
       "\t<tr><td>no          </td><td>no          </td><td>7381        </td><td>0.948721290 </td><td>0.0512787104</td><td>0.4         </td><td>3           </td><td>0           </td><td>0.8         </td><td>1           </td><td>1           </td><td>100         </td><td>Fold5       </td></tr>\n",
       "\t<tr><td>yes         </td><td>no          </td><td>7388        </td><td>0.128661975 </td><td>0.8713380247</td><td>0.4         </td><td>3           </td><td>0           </td><td>0.8         </td><td>1           </td><td>1           </td><td>100         </td><td>Fold5       </td></tr>\n",
       "\t<tr><td>yes         </td><td>yes         </td><td>7391        </td><td>0.201684326 </td><td>0.7983156741</td><td>0.4         </td><td>3           </td><td>0           </td><td>0.8         </td><td>1           </td><td>1           </td><td>100         </td><td>Fold5       </td></tr>\n",
       "\t<tr><td>no          </td><td>no          </td><td>7394        </td><td>0.773570955 </td><td>0.2264290452</td><td>0.4         </td><td>3           </td><td>0           </td><td>0.8         </td><td>1           </td><td>1           </td><td>100         </td><td>Fold5       </td></tr>\n",
       "\t<tr><td>yes         </td><td>yes         </td><td>7395        </td><td>0.060322061 </td><td>0.9396779388</td><td>0.4         </td><td>3           </td><td>0           </td><td>0.8         </td><td>1           </td><td>1           </td><td>100         </td><td>Fold5       </td></tr>\n",
       "\t<tr><td>no          </td><td>yes         </td><td>7397        </td><td>0.570392728 </td><td>0.4296072721</td><td>0.4         </td><td>3           </td><td>0           </td><td>0.8         </td><td>1           </td><td>1           </td><td>100         </td><td>Fold5       </td></tr>\n",
       "\t<tr><td>no          </td><td>no          </td><td>7403        </td><td>0.993355632 </td><td>0.0066443682</td><td>0.4         </td><td>3           </td><td>0           </td><td>0.8         </td><td>1           </td><td>1           </td><td>100         </td><td>Fold5       </td></tr>\n",
       "\t<tr><td>yes         </td><td>yes         </td><td>7424        </td><td>0.018523283 </td><td>0.9814767167</td><td>0.4         </td><td>3           </td><td>0           </td><td>0.8         </td><td>1           </td><td>1           </td><td>100         </td><td>Fold5       </td></tr>\n",
       "\t<tr><td>no          </td><td>no          </td><td>7425        </td><td>0.946850538 </td><td>0.0531494617</td><td>0.4         </td><td>3           </td><td>0           </td><td>0.8         </td><td>1           </td><td>1           </td><td>100         </td><td>Fold5       </td></tr>\n",
       "\t<tr><td>yes         </td><td>yes         </td><td>7426        </td><td>0.193017021 </td><td>0.8069829792</td><td>0.4         </td><td>3           </td><td>0           </td><td>0.8         </td><td>1           </td><td>1           </td><td>100         </td><td>Fold5       </td></tr>\n",
       "\t<tr><td>no          </td><td>no          </td><td>7427        </td><td>0.943187654 </td><td>0.0568123460</td><td>0.4         </td><td>3           </td><td>0           </td><td>0.8         </td><td>1           </td><td>1           </td><td>100         </td><td>Fold5       </td></tr>\n",
       "\t<tr><td>yes         </td><td>no          </td><td>7429        </td><td>0.237713695 </td><td>0.7622863054</td><td>0.4         </td><td>3           </td><td>0           </td><td>0.8         </td><td>1           </td><td>1           </td><td>100         </td><td>Fold5       </td></tr>\n",
       "\t<tr><td>no          </td><td>no          </td><td>7436        </td><td>0.926522613 </td><td>0.0734773874</td><td>0.4         </td><td>3           </td><td>0           </td><td>0.8         </td><td>1           </td><td>1           </td><td>100         </td><td>Fold5       </td></tr>\n",
       "\t<tr><td>no          </td><td>no          </td><td>7443        </td><td>0.992576420 </td><td>0.0074235797</td><td>0.4         </td><td>3           </td><td>0           </td><td>0.8         </td><td>1           </td><td>1           </td><td>100         </td><td>Fold5       </td></tr>\n",
       "\t<tr><td>yes         </td><td>no          </td><td>7448        </td><td>0.285490960 </td><td>0.7145090401</td><td>0.4         </td><td>3           </td><td>0           </td><td>0.8         </td><td>1           </td><td>1           </td><td>100         </td><td>Fold5       </td></tr>\n",
       "\t<tr><td>yes         </td><td>yes         </td><td>7453        </td><td>0.294666827 </td><td>0.7053331733</td><td>0.4         </td><td>3           </td><td>0           </td><td>0.8         </td><td>1           </td><td>1           </td><td>100         </td><td>Fold5       </td></tr>\n",
       "\t<tr><td>yes         </td><td>yes         </td><td>7457        </td><td>0.213244259 </td><td>0.7867557406</td><td>0.4         </td><td>3           </td><td>0           </td><td>0.8         </td><td>1           </td><td>1           </td><td>100         </td><td>Fold5       </td></tr>\n",
       "\t<tr><td>yes         </td><td>no          </td><td>7461        </td><td>0.232888132 </td><td>0.7671118677</td><td>0.4         </td><td>3           </td><td>0           </td><td>0.8         </td><td>1           </td><td>1           </td><td>100         </td><td>Fold5       </td></tr>\n",
       "\t<tr><td>yes         </td><td>yes         </td><td>7463        </td><td>0.003434614 </td><td>0.9965653857</td><td>0.4         </td><td>3           </td><td>0           </td><td>0.8         </td><td>1           </td><td>1           </td><td>100         </td><td>Fold5       </td></tr>\n",
       "</tbody>\n",
       "</table>\n"
      ],
      "text/latex": [
       "\\begin{tabular}{r|lllllllllllll}\n",
       " pred & obs & rowIndex & no & yes & eta & max\\_depth & gamma & colsample\\_bytree & min\\_child\\_weight & subsample & nrounds & Resample\\\\\n",
       "\\hline\n",
       "\t no         & yes        &  11        & 0.81190646 & 0.1880935  & 0.3        & 1          & 0          & 0.6        & 1          & 0.5        & 150        & Fold1     \\\\\n",
       "\t no         & yes        &  12        & 0.54240084 & 0.4575992  & 0.3        & 1          & 0          & 0.6        & 1          & 0.5        & 150        & Fold1     \\\\\n",
       "\t no         & yes        &  18        & 0.61163652 & 0.3883635  & 0.3        & 1          & 0          & 0.6        & 1          & 0.5        & 150        & Fold1     \\\\\n",
       "\t no         & no         &  20        & 0.55684888 & 0.4431511  & 0.3        & 1          & 0          & 0.6        & 1          & 0.5        & 150        & Fold1     \\\\\n",
       "\t no         & no         &  26        & 0.92591250 & 0.0740875  & 0.3        & 1          & 0          & 0.6        & 1          & 0.5        & 150        & Fold1     \\\\\n",
       "\t no         & no         &  33        & 0.84007031 & 0.1599297  & 0.3        & 1          & 0          & 0.6        & 1          & 0.5        & 150        & Fold1     \\\\\n",
       "\t no         & no         &  45        & 0.86138523 & 0.1386148  & 0.3        & 1          & 0          & 0.6        & 1          & 0.5        & 150        & Fold1     \\\\\n",
       "\t no         & no         &  47        & 0.82855266 & 0.1714473  & 0.3        & 1          & 0          & 0.6        & 1          & 0.5        & 150        & Fold1     \\\\\n",
       "\t no         & no         &  52        & 0.83102465 & 0.1689754  & 0.3        & 1          & 0          & 0.6        & 1          & 0.5        & 150        & Fold1     \\\\\n",
       "\t yes        & yes        &  53        & 0.18751892 & 0.8124811  & 0.3        & 1          & 0          & 0.6        & 1          & 0.5        & 150        & Fold1     \\\\\n",
       "\t no         & yes        &  68        & 0.50942379 & 0.4905762  & 0.3        & 1          & 0          & 0.6        & 1          & 0.5        & 150        & Fold1     \\\\\n",
       "\t yes        & yes        &  72        & 0.01175321 & 0.9882468  & 0.3        & 1          & 0          & 0.6        & 1          & 0.5        & 150        & Fold1     \\\\\n",
       "\t yes        & yes        &  90        & 0.01358773 & 0.9864123  & 0.3        & 1          & 0          & 0.6        & 1          & 0.5        & 150        & Fold1     \\\\\n",
       "\t yes        & yes        &  96        & 0.26704845 & 0.7329516  & 0.3        & 1          & 0          & 0.6        & 1          & 0.5        & 150        & Fold1     \\\\\n",
       "\t no         & no         & 100        & 0.73621893 & 0.2637811  & 0.3        & 1          & 0          & 0.6        & 1          & 0.5        & 150        & Fold1     \\\\\n",
       "\t yes        & yes        & 102        & 0.31354776 & 0.6864522  & 0.3        & 1          & 0          & 0.6        & 1          & 0.5        & 150        & Fold1     \\\\\n",
       "\t no         & yes        & 105        & 0.52566516 & 0.4743348  & 0.3        & 1          & 0          & 0.6        & 1          & 0.5        & 150        & Fold1     \\\\\n",
       "\t no         & yes        & 107        & 0.58033037 & 0.4196696  & 0.3        & 1          & 0          & 0.6        & 1          & 0.5        & 150        & Fold1     \\\\\n",
       "\t no         & no         & 109        & 0.83221853 & 0.1677815  & 0.3        & 1          & 0          & 0.6        & 1          & 0.5        & 150        & Fold1     \\\\\n",
       "\t yes        & yes        & 118        & 0.12638646 & 0.8736135  & 0.3        & 1          & 0          & 0.6        & 1          & 0.5        & 150        & Fold1     \\\\\n",
       "\t no         & no         & 121        & 0.59294093 & 0.4070591  & 0.3        & 1          & 0          & 0.6        & 1          & 0.5        & 150        & Fold1     \\\\\n",
       "\t no         & no         & 125        & 0.80721444 & 0.1927856  & 0.3        & 1          & 0          & 0.6        & 1          & 0.5        & 150        & Fold1     \\\\\n",
       "\t yes        & yes        & 127        & 0.29230195 & 0.7076980  & 0.3        & 1          & 0          & 0.6        & 1          & 0.5        & 150        & Fold1     \\\\\n",
       "\t yes        & yes        & 133        & 0.26394159 & 0.7360584  & 0.3        & 1          & 0          & 0.6        & 1          & 0.5        & 150        & Fold1     \\\\\n",
       "\t yes        & yes        & 137        & 0.29003581 & 0.7099642  & 0.3        & 1          & 0          & 0.6        & 1          & 0.5        & 150        & Fold1     \\\\\n",
       "\t yes        & yes        & 138        & 0.36192936 & 0.6380706  & 0.3        & 1          & 0          & 0.6        & 1          & 0.5        & 150        & Fold1     \\\\\n",
       "\t yes        & yes        & 142        & 0.02873910 & 0.9712609  & 0.3        & 1          & 0          & 0.6        & 1          & 0.5        & 150        & Fold1     \\\\\n",
       "\t no         & yes        & 154        & 0.64193881 & 0.3580612  & 0.3        & 1          & 0          & 0.6        & 1          & 0.5        & 150        & Fold1     \\\\\n",
       "\t yes        & yes        & 156        & 0.26931620 & 0.7306838  & 0.3        & 1          & 0          & 0.6        & 1          & 0.5        & 150        & Fold1     \\\\\n",
       "\t yes        & yes        & 157        & 0.49462673 & 0.5053733  & 0.3        & 1          & 0          & 0.6        & 1          & 0.5        & 150        & Fold1     \\\\\n",
       "\t ... & ... & ... & ... & ... & ... & ... & ... & ... & ... & ... & ... & ...\\\\\n",
       "\t yes          & yes          & 7337         & 0.130734667  & 0.8692653328 & 0.4          & 3            & 0            & 0.8          & 1            & 1            & 100          & Fold5       \\\\\n",
       "\t no           & yes          & 7344         & 0.917219818  & 0.0827801824 & 0.4          & 3            & 0            & 0.8          & 1            & 1            & 100          & Fold5       \\\\\n",
       "\t no           & no           & 7346         & 0.729470372  & 0.2705296278 & 0.4          & 3            & 0            & 0.8          & 1            & 1            & 100          & Fold5       \\\\\n",
       "\t no           & no           & 7351         & 0.974665999  & 0.0253340006 & 0.4          & 3            & 0            & 0.8          & 1            & 1            & 100          & Fold5       \\\\\n",
       "\t no           & yes          & 7355         & 0.555130780  & 0.4448692203 & 0.4          & 3            & 0            & 0.8          & 1            & 1            & 100          & Fold5       \\\\\n",
       "\t yes          & no           & 7357         & 0.330740631  & 0.6692593694 & 0.4          & 3            & 0            & 0.8          & 1            & 1            & 100          & Fold5       \\\\\n",
       "\t yes          & no           & 7362         & 0.095905215  & 0.9040947855 & 0.4          & 3            & 0            & 0.8          & 1            & 1            & 100          & Fold5       \\\\\n",
       "\t yes          & yes          & 7367         & 0.466954619  & 0.5330453813 & 0.4          & 3            & 0            & 0.8          & 1            & 1            & 100          & Fold5       \\\\\n",
       "\t no           & no           & 7372         & 0.999342263  & 0.0006577373 & 0.4          & 3            & 0            & 0.8          & 1            & 1            & 100          & Fold5       \\\\\n",
       "\t no           & no           & 7375         & 0.987013757  & 0.0129862428 & 0.4          & 3            & 0            & 0.8          & 1            & 1            & 100          & Fold5       \\\\\n",
       "\t yes          & yes          & 7376         & 0.030579908  & 0.9694200922 & 0.4          & 3            & 0            & 0.8          & 1            & 1            & 100          & Fold5       \\\\\n",
       "\t no           & no           & 7381         & 0.948721290  & 0.0512787104 & 0.4          & 3            & 0            & 0.8          & 1            & 1            & 100          & Fold5       \\\\\n",
       "\t yes          & no           & 7388         & 0.128661975  & 0.8713380247 & 0.4          & 3            & 0            & 0.8          & 1            & 1            & 100          & Fold5       \\\\\n",
       "\t yes          & yes          & 7391         & 0.201684326  & 0.7983156741 & 0.4          & 3            & 0            & 0.8          & 1            & 1            & 100          & Fold5       \\\\\n",
       "\t no           & no           & 7394         & 0.773570955  & 0.2264290452 & 0.4          & 3            & 0            & 0.8          & 1            & 1            & 100          & Fold5       \\\\\n",
       "\t yes          & yes          & 7395         & 0.060322061  & 0.9396779388 & 0.4          & 3            & 0            & 0.8          & 1            & 1            & 100          & Fold5       \\\\\n",
       "\t no           & yes          & 7397         & 0.570392728  & 0.4296072721 & 0.4          & 3            & 0            & 0.8          & 1            & 1            & 100          & Fold5       \\\\\n",
       "\t no           & no           & 7403         & 0.993355632  & 0.0066443682 & 0.4          & 3            & 0            & 0.8          & 1            & 1            & 100          & Fold5       \\\\\n",
       "\t yes          & yes          & 7424         & 0.018523283  & 0.9814767167 & 0.4          & 3            & 0            & 0.8          & 1            & 1            & 100          & Fold5       \\\\\n",
       "\t no           & no           & 7425         & 0.946850538  & 0.0531494617 & 0.4          & 3            & 0            & 0.8          & 1            & 1            & 100          & Fold5       \\\\\n",
       "\t yes          & yes          & 7426         & 0.193017021  & 0.8069829792 & 0.4          & 3            & 0            & 0.8          & 1            & 1            & 100          & Fold5       \\\\\n",
       "\t no           & no           & 7427         & 0.943187654  & 0.0568123460 & 0.4          & 3            & 0            & 0.8          & 1            & 1            & 100          & Fold5       \\\\\n",
       "\t yes          & no           & 7429         & 0.237713695  & 0.7622863054 & 0.4          & 3            & 0            & 0.8          & 1            & 1            & 100          & Fold5       \\\\\n",
       "\t no           & no           & 7436         & 0.926522613  & 0.0734773874 & 0.4          & 3            & 0            & 0.8          & 1            & 1            & 100          & Fold5       \\\\\n",
       "\t no           & no           & 7443         & 0.992576420  & 0.0074235797 & 0.4          & 3            & 0            & 0.8          & 1            & 1            & 100          & Fold5       \\\\\n",
       "\t yes          & no           & 7448         & 0.285490960  & 0.7145090401 & 0.4          & 3            & 0            & 0.8          & 1            & 1            & 100          & Fold5       \\\\\n",
       "\t yes          & yes          & 7453         & 0.294666827  & 0.7053331733 & 0.4          & 3            & 0            & 0.8          & 1            & 1            & 100          & Fold5       \\\\\n",
       "\t yes          & yes          & 7457         & 0.213244259  & 0.7867557406 & 0.4          & 3            & 0            & 0.8          & 1            & 1            & 100          & Fold5       \\\\\n",
       "\t yes          & no           & 7461         & 0.232888132  & 0.7671118677 & 0.4          & 3            & 0            & 0.8          & 1            & 1            & 100          & Fold5       \\\\\n",
       "\t yes          & yes          & 7463         & 0.003434614  & 0.9965653857 & 0.4          & 3            & 0            & 0.8          & 1            & 1            & 100          & Fold5       \\\\\n",
       "\\end{tabular}\n"
      ],
      "text/markdown": [
       "\n",
       "| pred | obs | rowIndex | no | yes | eta | max_depth | gamma | colsample_bytree | min_child_weight | subsample | nrounds | Resample |\n",
       "|---|---|---|---|---|---|---|---|---|---|---|---|---|\n",
       "| no         | yes        |  11        | 0.81190646 | 0.1880935  | 0.3        | 1          | 0          | 0.6        | 1          | 0.5        | 150        | Fold1      |\n",
       "| no         | yes        |  12        | 0.54240084 | 0.4575992  | 0.3        | 1          | 0          | 0.6        | 1          | 0.5        | 150        | Fold1      |\n",
       "| no         | yes        |  18        | 0.61163652 | 0.3883635  | 0.3        | 1          | 0          | 0.6        | 1          | 0.5        | 150        | Fold1      |\n",
       "| no         | no         |  20        | 0.55684888 | 0.4431511  | 0.3        | 1          | 0          | 0.6        | 1          | 0.5        | 150        | Fold1      |\n",
       "| no         | no         |  26        | 0.92591250 | 0.0740875  | 0.3        | 1          | 0          | 0.6        | 1          | 0.5        | 150        | Fold1      |\n",
       "| no         | no         |  33        | 0.84007031 | 0.1599297  | 0.3        | 1          | 0          | 0.6        | 1          | 0.5        | 150        | Fold1      |\n",
       "| no         | no         |  45        | 0.86138523 | 0.1386148  | 0.3        | 1          | 0          | 0.6        | 1          | 0.5        | 150        | Fold1      |\n",
       "| no         | no         |  47        | 0.82855266 | 0.1714473  | 0.3        | 1          | 0          | 0.6        | 1          | 0.5        | 150        | Fold1      |\n",
       "| no         | no         |  52        | 0.83102465 | 0.1689754  | 0.3        | 1          | 0          | 0.6        | 1          | 0.5        | 150        | Fold1      |\n",
       "| yes        | yes        |  53        | 0.18751892 | 0.8124811  | 0.3        | 1          | 0          | 0.6        | 1          | 0.5        | 150        | Fold1      |\n",
       "| no         | yes        |  68        | 0.50942379 | 0.4905762  | 0.3        | 1          | 0          | 0.6        | 1          | 0.5        | 150        | Fold1      |\n",
       "| yes        | yes        |  72        | 0.01175321 | 0.9882468  | 0.3        | 1          | 0          | 0.6        | 1          | 0.5        | 150        | Fold1      |\n",
       "| yes        | yes        |  90        | 0.01358773 | 0.9864123  | 0.3        | 1          | 0          | 0.6        | 1          | 0.5        | 150        | Fold1      |\n",
       "| yes        | yes        |  96        | 0.26704845 | 0.7329516  | 0.3        | 1          | 0          | 0.6        | 1          | 0.5        | 150        | Fold1      |\n",
       "| no         | no         | 100        | 0.73621893 | 0.2637811  | 0.3        | 1          | 0          | 0.6        | 1          | 0.5        | 150        | Fold1      |\n",
       "| yes        | yes        | 102        | 0.31354776 | 0.6864522  | 0.3        | 1          | 0          | 0.6        | 1          | 0.5        | 150        | Fold1      |\n",
       "| no         | yes        | 105        | 0.52566516 | 0.4743348  | 0.3        | 1          | 0          | 0.6        | 1          | 0.5        | 150        | Fold1      |\n",
       "| no         | yes        | 107        | 0.58033037 | 0.4196696  | 0.3        | 1          | 0          | 0.6        | 1          | 0.5        | 150        | Fold1      |\n",
       "| no         | no         | 109        | 0.83221853 | 0.1677815  | 0.3        | 1          | 0          | 0.6        | 1          | 0.5        | 150        | Fold1      |\n",
       "| yes        | yes        | 118        | 0.12638646 | 0.8736135  | 0.3        | 1          | 0          | 0.6        | 1          | 0.5        | 150        | Fold1      |\n",
       "| no         | no         | 121        | 0.59294093 | 0.4070591  | 0.3        | 1          | 0          | 0.6        | 1          | 0.5        | 150        | Fold1      |\n",
       "| no         | no         | 125        | 0.80721444 | 0.1927856  | 0.3        | 1          | 0          | 0.6        | 1          | 0.5        | 150        | Fold1      |\n",
       "| yes        | yes        | 127        | 0.29230195 | 0.7076980  | 0.3        | 1          | 0          | 0.6        | 1          | 0.5        | 150        | Fold1      |\n",
       "| yes        | yes        | 133        | 0.26394159 | 0.7360584  | 0.3        | 1          | 0          | 0.6        | 1          | 0.5        | 150        | Fold1      |\n",
       "| yes        | yes        | 137        | 0.29003581 | 0.7099642  | 0.3        | 1          | 0          | 0.6        | 1          | 0.5        | 150        | Fold1      |\n",
       "| yes        | yes        | 138        | 0.36192936 | 0.6380706  | 0.3        | 1          | 0          | 0.6        | 1          | 0.5        | 150        | Fold1      |\n",
       "| yes        | yes        | 142        | 0.02873910 | 0.9712609  | 0.3        | 1          | 0          | 0.6        | 1          | 0.5        | 150        | Fold1      |\n",
       "| no         | yes        | 154        | 0.64193881 | 0.3580612  | 0.3        | 1          | 0          | 0.6        | 1          | 0.5        | 150        | Fold1      |\n",
       "| yes        | yes        | 156        | 0.26931620 | 0.7306838  | 0.3        | 1          | 0          | 0.6        | 1          | 0.5        | 150        | Fold1      |\n",
       "| yes        | yes        | 157        | 0.49462673 | 0.5053733  | 0.3        | 1          | 0          | 0.6        | 1          | 0.5        | 150        | Fold1      |\n",
       "| ... | ... | ... | ... | ... | ... | ... | ... | ... | ... | ... | ... | ... |\n",
       "| yes          | yes          | 7337         | 0.130734667  | 0.8692653328 | 0.4          | 3            | 0            | 0.8          | 1            | 1            | 100          | Fold5        |\n",
       "| no           | yes          | 7344         | 0.917219818  | 0.0827801824 | 0.4          | 3            | 0            | 0.8          | 1            | 1            | 100          | Fold5        |\n",
       "| no           | no           | 7346         | 0.729470372  | 0.2705296278 | 0.4          | 3            | 0            | 0.8          | 1            | 1            | 100          | Fold5        |\n",
       "| no           | no           | 7351         | 0.974665999  | 0.0253340006 | 0.4          | 3            | 0            | 0.8          | 1            | 1            | 100          | Fold5        |\n",
       "| no           | yes          | 7355         | 0.555130780  | 0.4448692203 | 0.4          | 3            | 0            | 0.8          | 1            | 1            | 100          | Fold5        |\n",
       "| yes          | no           | 7357         | 0.330740631  | 0.6692593694 | 0.4          | 3            | 0            | 0.8          | 1            | 1            | 100          | Fold5        |\n",
       "| yes          | no           | 7362         | 0.095905215  | 0.9040947855 | 0.4          | 3            | 0            | 0.8          | 1            | 1            | 100          | Fold5        |\n",
       "| yes          | yes          | 7367         | 0.466954619  | 0.5330453813 | 0.4          | 3            | 0            | 0.8          | 1            | 1            | 100          | Fold5        |\n",
       "| no           | no           | 7372         | 0.999342263  | 0.0006577373 | 0.4          | 3            | 0            | 0.8          | 1            | 1            | 100          | Fold5        |\n",
       "| no           | no           | 7375         | 0.987013757  | 0.0129862428 | 0.4          | 3            | 0            | 0.8          | 1            | 1            | 100          | Fold5        |\n",
       "| yes          | yes          | 7376         | 0.030579908  | 0.9694200922 | 0.4          | 3            | 0            | 0.8          | 1            | 1            | 100          | Fold5        |\n",
       "| no           | no           | 7381         | 0.948721290  | 0.0512787104 | 0.4          | 3            | 0            | 0.8          | 1            | 1            | 100          | Fold5        |\n",
       "| yes          | no           | 7388         | 0.128661975  | 0.8713380247 | 0.4          | 3            | 0            | 0.8          | 1            | 1            | 100          | Fold5        |\n",
       "| yes          | yes          | 7391         | 0.201684326  | 0.7983156741 | 0.4          | 3            | 0            | 0.8          | 1            | 1            | 100          | Fold5        |\n",
       "| no           | no           | 7394         | 0.773570955  | 0.2264290452 | 0.4          | 3            | 0            | 0.8          | 1            | 1            | 100          | Fold5        |\n",
       "| yes          | yes          | 7395         | 0.060322061  | 0.9396779388 | 0.4          | 3            | 0            | 0.8          | 1            | 1            | 100          | Fold5        |\n",
       "| no           | yes          | 7397         | 0.570392728  | 0.4296072721 | 0.4          | 3            | 0            | 0.8          | 1            | 1            | 100          | Fold5        |\n",
       "| no           | no           | 7403         | 0.993355632  | 0.0066443682 | 0.4          | 3            | 0            | 0.8          | 1            | 1            | 100          | Fold5        |\n",
       "| yes          | yes          | 7424         | 0.018523283  | 0.9814767167 | 0.4          | 3            | 0            | 0.8          | 1            | 1            | 100          | Fold5        |\n",
       "| no           | no           | 7425         | 0.946850538  | 0.0531494617 | 0.4          | 3            | 0            | 0.8          | 1            | 1            | 100          | Fold5        |\n",
       "| yes          | yes          | 7426         | 0.193017021  | 0.8069829792 | 0.4          | 3            | 0            | 0.8          | 1            | 1            | 100          | Fold5        |\n",
       "| no           | no           | 7427         | 0.943187654  | 0.0568123460 | 0.4          | 3            | 0            | 0.8          | 1            | 1            | 100          | Fold5        |\n",
       "| yes          | no           | 7429         | 0.237713695  | 0.7622863054 | 0.4          | 3            | 0            | 0.8          | 1            | 1            | 100          | Fold5        |\n",
       "| no           | no           | 7436         | 0.926522613  | 0.0734773874 | 0.4          | 3            | 0            | 0.8          | 1            | 1            | 100          | Fold5        |\n",
       "| no           | no           | 7443         | 0.992576420  | 0.0074235797 | 0.4          | 3            | 0            | 0.8          | 1            | 1            | 100          | Fold5        |\n",
       "| yes          | no           | 7448         | 0.285490960  | 0.7145090401 | 0.4          | 3            | 0            | 0.8          | 1            | 1            | 100          | Fold5        |\n",
       "| yes          | yes          | 7453         | 0.294666827  | 0.7053331733 | 0.4          | 3            | 0            | 0.8          | 1            | 1            | 100          | Fold5        |\n",
       "| yes          | yes          | 7457         | 0.213244259  | 0.7867557406 | 0.4          | 3            | 0            | 0.8          | 1            | 1            | 100          | Fold5        |\n",
       "| yes          | no           | 7461         | 0.232888132  | 0.7671118677 | 0.4          | 3            | 0            | 0.8          | 1            | 1            | 100          | Fold5        |\n",
       "| yes          | yes          | 7463         | 0.003434614  | 0.9965653857 | 0.4          | 3            | 0            | 0.8          | 1            | 1            | 100          | Fold5        |\n",
       "\n"
      ],
      "text/plain": [
       "       pred obs rowIndex no          yes          eta max_depth gamma\n",
       "1      no   yes  11      0.81190646  0.1880935    0.3 1         0    \n",
       "2      no   yes  12      0.54240084  0.4575992    0.3 1         0    \n",
       "3      no   yes  18      0.61163652  0.3883635    0.3 1         0    \n",
       "4      no   no   20      0.55684888  0.4431511    0.3 1         0    \n",
       "5      no   no   26      0.92591250  0.0740875    0.3 1         0    \n",
       "6      no   no   33      0.84007031  0.1599297    0.3 1         0    \n",
       "7      no   no   45      0.86138523  0.1386148    0.3 1         0    \n",
       "8      no   no   47      0.82855266  0.1714473    0.3 1         0    \n",
       "9      no   no   52      0.83102465  0.1689754    0.3 1         0    \n",
       "10     yes  yes  53      0.18751892  0.8124811    0.3 1         0    \n",
       "11     no   yes  68      0.50942379  0.4905762    0.3 1         0    \n",
       "12     yes  yes  72      0.01175321  0.9882468    0.3 1         0    \n",
       "13     yes  yes  90      0.01358773  0.9864123    0.3 1         0    \n",
       "14     yes  yes  96      0.26704845  0.7329516    0.3 1         0    \n",
       "15     no   no  100      0.73621893  0.2637811    0.3 1         0    \n",
       "16     yes  yes 102      0.31354776  0.6864522    0.3 1         0    \n",
       "17     no   yes 105      0.52566516  0.4743348    0.3 1         0    \n",
       "18     no   yes 107      0.58033037  0.4196696    0.3 1         0    \n",
       "19     no   no  109      0.83221853  0.1677815    0.3 1         0    \n",
       "20     yes  yes 118      0.12638646  0.8736135    0.3 1         0    \n",
       "21     no   no  121      0.59294093  0.4070591    0.3 1         0    \n",
       "22     no   no  125      0.80721444  0.1927856    0.3 1         0    \n",
       "23     yes  yes 127      0.29230195  0.7076980    0.3 1         0    \n",
       "24     yes  yes 133      0.26394159  0.7360584    0.3 1         0    \n",
       "25     yes  yes 137      0.29003581  0.7099642    0.3 1         0    \n",
       "26     yes  yes 138      0.36192936  0.6380706    0.3 1         0    \n",
       "27     yes  yes 142      0.02873910  0.9712609    0.3 1         0    \n",
       "28     no   yes 154      0.64193881  0.3580612    0.3 1         0    \n",
       "29     yes  yes 156      0.26931620  0.7306838    0.3 1         0    \n",
       "30     yes  yes 157      0.49462673  0.5053733    0.3 1         0    \n",
       "...    ...  ... ...      ...         ...          ... ...       ...  \n",
       "806083 yes  yes 7337     0.130734667 0.8692653328 0.4 3         0    \n",
       "806084 no   yes 7344     0.917219818 0.0827801824 0.4 3         0    \n",
       "806085 no   no  7346     0.729470372 0.2705296278 0.4 3         0    \n",
       "806086 no   no  7351     0.974665999 0.0253340006 0.4 3         0    \n",
       "806087 no   yes 7355     0.555130780 0.4448692203 0.4 3         0    \n",
       "806088 yes  no  7357     0.330740631 0.6692593694 0.4 3         0    \n",
       "806089 yes  no  7362     0.095905215 0.9040947855 0.4 3         0    \n",
       "806090 yes  yes 7367     0.466954619 0.5330453813 0.4 3         0    \n",
       "806091 no   no  7372     0.999342263 0.0006577373 0.4 3         0    \n",
       "806092 no   no  7375     0.987013757 0.0129862428 0.4 3         0    \n",
       "806093 yes  yes 7376     0.030579908 0.9694200922 0.4 3         0    \n",
       "806094 no   no  7381     0.948721290 0.0512787104 0.4 3         0    \n",
       "806095 yes  no  7388     0.128661975 0.8713380247 0.4 3         0    \n",
       "806096 yes  yes 7391     0.201684326 0.7983156741 0.4 3         0    \n",
       "806097 no   no  7394     0.773570955 0.2264290452 0.4 3         0    \n",
       "806098 yes  yes 7395     0.060322061 0.9396779388 0.4 3         0    \n",
       "806099 no   yes 7397     0.570392728 0.4296072721 0.4 3         0    \n",
       "806100 no   no  7403     0.993355632 0.0066443682 0.4 3         0    \n",
       "806101 yes  yes 7424     0.018523283 0.9814767167 0.4 3         0    \n",
       "806102 no   no  7425     0.946850538 0.0531494617 0.4 3         0    \n",
       "806103 yes  yes 7426     0.193017021 0.8069829792 0.4 3         0    \n",
       "806104 no   no  7427     0.943187654 0.0568123460 0.4 3         0    \n",
       "806105 yes  no  7429     0.237713695 0.7622863054 0.4 3         0    \n",
       "806106 no   no  7436     0.926522613 0.0734773874 0.4 3         0    \n",
       "806107 no   no  7443     0.992576420 0.0074235797 0.4 3         0    \n",
       "806108 yes  no  7448     0.285490960 0.7145090401 0.4 3         0    \n",
       "806109 yes  yes 7453     0.294666827 0.7053331733 0.4 3         0    \n",
       "806110 yes  yes 7457     0.213244259 0.7867557406 0.4 3         0    \n",
       "806111 yes  no  7461     0.232888132 0.7671118677 0.4 3         0    \n",
       "806112 yes  yes 7463     0.003434614 0.9965653857 0.4 3         0    \n",
       "       colsample_bytree min_child_weight subsample nrounds Resample\n",
       "1      0.6              1                0.5       150     Fold1   \n",
       "2      0.6              1                0.5       150     Fold1   \n",
       "3      0.6              1                0.5       150     Fold1   \n",
       "4      0.6              1                0.5       150     Fold1   \n",
       "5      0.6              1                0.5       150     Fold1   \n",
       "6      0.6              1                0.5       150     Fold1   \n",
       "7      0.6              1                0.5       150     Fold1   \n",
       "8      0.6              1                0.5       150     Fold1   \n",
       "9      0.6              1                0.5       150     Fold1   \n",
       "10     0.6              1                0.5       150     Fold1   \n",
       "11     0.6              1                0.5       150     Fold1   \n",
       "12     0.6              1                0.5       150     Fold1   \n",
       "13     0.6              1                0.5       150     Fold1   \n",
       "14     0.6              1                0.5       150     Fold1   \n",
       "15     0.6              1                0.5       150     Fold1   \n",
       "16     0.6              1                0.5       150     Fold1   \n",
       "17     0.6              1                0.5       150     Fold1   \n",
       "18     0.6              1                0.5       150     Fold1   \n",
       "19     0.6              1                0.5       150     Fold1   \n",
       "20     0.6              1                0.5       150     Fold1   \n",
       "21     0.6              1                0.5       150     Fold1   \n",
       "22     0.6              1                0.5       150     Fold1   \n",
       "23     0.6              1                0.5       150     Fold1   \n",
       "24     0.6              1                0.5       150     Fold1   \n",
       "25     0.6              1                0.5       150     Fold1   \n",
       "26     0.6              1                0.5       150     Fold1   \n",
       "27     0.6              1                0.5       150     Fold1   \n",
       "28     0.6              1                0.5       150     Fold1   \n",
       "29     0.6              1                0.5       150     Fold1   \n",
       "30     0.6              1                0.5       150     Fold1   \n",
       "...    ...              ...              ...       ...     ...     \n",
       "806083 0.8              1                1         100     Fold5   \n",
       "806084 0.8              1                1         100     Fold5   \n",
       "806085 0.8              1                1         100     Fold5   \n",
       "806086 0.8              1                1         100     Fold5   \n",
       "806087 0.8              1                1         100     Fold5   \n",
       "806088 0.8              1                1         100     Fold5   \n",
       "806089 0.8              1                1         100     Fold5   \n",
       "806090 0.8              1                1         100     Fold5   \n",
       "806091 0.8              1                1         100     Fold5   \n",
       "806092 0.8              1                1         100     Fold5   \n",
       "806093 0.8              1                1         100     Fold5   \n",
       "806094 0.8              1                1         100     Fold5   \n",
       "806095 0.8              1                1         100     Fold5   \n",
       "806096 0.8              1                1         100     Fold5   \n",
       "806097 0.8              1                1         100     Fold5   \n",
       "806098 0.8              1                1         100     Fold5   \n",
       "806099 0.8              1                1         100     Fold5   \n",
       "806100 0.8              1                1         100     Fold5   \n",
       "806101 0.8              1                1         100     Fold5   \n",
       "806102 0.8              1                1         100     Fold5   \n",
       "806103 0.8              1                1         100     Fold5   \n",
       "806104 0.8              1                1         100     Fold5   \n",
       "806105 0.8              1                1         100     Fold5   \n",
       "806106 0.8              1                1         100     Fold5   \n",
       "806107 0.8              1                1         100     Fold5   \n",
       "806108 0.8              1                1         100     Fold5   \n",
       "806109 0.8              1                1         100     Fold5   \n",
       "806110 0.8              1                1         100     Fold5   \n",
       "806111 0.8              1                1         100     Fold5   \n",
       "806112 0.8              1                1         100     Fold5   "
      ]
     },
     "metadata": {},
     "output_type": "display_data"
    }
   ],
   "source": [
    "confusionMatrix(xgbtree)\n",
    "xgbtree$pred"
   ]
  },
  {
   "cell_type": "code",
   "execution_count": 53,
   "metadata": {},
   "outputs": [],
   "source": [
    "xgbpreds <- predict(xgbtree, test_data)"
   ]
  },
  {
   "cell_type": "code",
   "execution_count": 54,
   "metadata": {},
   "outputs": [
    {
     "data": {
      "text/plain": [
       "Confusion Matrix and Statistics\n",
       "\n",
       "        \n",
       "xgbpreds  no yes\n",
       "     no  731 108\n",
       "     yes 202 825\n",
       "                                          \n",
       "               Accuracy : 0.8339          \n",
       "                 95% CI : (0.8162, 0.8505)\n",
       "    No Information Rate : 0.5             \n",
       "    P-Value [Acc > NIR] : < 2.2e-16       \n",
       "                                          \n",
       "                  Kappa : 0.6677          \n",
       "                                          \n",
       " Mcnemar's Test P-Value : 1.277e-07       \n",
       "                                          \n",
       "            Sensitivity : 0.7835          \n",
       "            Specificity : 0.8842          \n",
       "         Pos Pred Value : 0.8713          \n",
       "         Neg Pred Value : 0.8033          \n",
       "             Prevalence : 0.5000          \n",
       "         Detection Rate : 0.3917          \n",
       "   Detection Prevalence : 0.4496          \n",
       "      Balanced Accuracy : 0.8339          \n",
       "                                          \n",
       "       'Positive' Class : no              \n",
       "                                          "
      ]
     },
     "metadata": {},
     "output_type": "display_data"
    }
   ],
   "source": [
    "confusionMatrix(table(xgbpreds, test_data$is_promoted))"
   ]
  },
  {
   "cell_type": "code",
   "execution_count": 55,
   "metadata": {},
   "outputs": [
    {
     "data": {
      "text/plain": [
       "xgbTree variable importance\n",
       "\n",
       "  only 20 most important variables shown (out of 54)\n",
       "\n",
       "                             Overall\n",
       "avg_training_score          0.298036\n",
       "KPIs_met..80.               0.239061\n",
       "previous_year_rating        0.140940\n",
       "departmentSales & Marketing 0.069869\n",
       "length_of_service           0.048764\n",
       "awards_won.                 0.034820\n",
       "departmentProcurement       0.031456\n",
       "departmentOperations        0.029417\n",
       "age                         0.018234\n",
       "departmentHR                0.011814\n",
       "departmentFinance           0.011585\n",
       "departmentTechnology        0.010275\n",
       "no_of_trainings             0.007006\n",
       "regionregion_22             0.006087\n",
       "regionregion_4              0.003136\n",
       "genderm                     0.002850\n",
       "departmentR&D               0.002684\n",
       "departmentLegal             0.002543\n",
       "educationMaster's & above   0.002407\n",
       "regionregion_2              0.002385"
      ]
     },
     "metadata": {},
     "output_type": "display_data"
    },
    {
     "data": {
      "image/png": "[encoded data removed]",
      "text/plain": [
       "plot without title"
      ]
     },
     "metadata": {},
     "output_type": "display_data"
    }
   ],
   "source": [
    "plot(varImp(xgbtree, scale=FALSE), top=20)\n",
    "varImp(xgbtree, scale=FALSE)"
   ]
  },
  {
   "cell_type": "code",
   "execution_count": null,
   "metadata": {},
   "outputs": [],
   "source": []
  }
 ],
 "metadata": {
  "kernelspec": {
   "display_name": "R",
   "language": "R",
   "name": "ir"
  },
  "language_info": {
   "codemirror_mode": "r",
   "file_extension": ".r",
   "mimetype": "text/x-r-source",
   "name": "R",
   "pygments_lexer": "r",
   "version": "3.6.1"
  }
 },
 "nbformat": 4,
 "nbformat_minor": 2
}
